{
 "cells": [
  {
   "cell_type": "code",
   "execution_count": 2,
   "metadata": {},
   "outputs": [],
   "source": [
    "from random import shuffle, random\n",
    "clientes = [\"Chico Tuíta\", \"Chapa de Chicrete\", \"Bigode de Arame\"]#, \"Zé Rosca-Frouxa\", \"Biricutico\", \"Mudrungo\"]\n",
    "produtos = [\"Rabo de galo\", \"Ovo colorido\", \"Costelinha de buteco\", \"Queijo de nózinho\"]"
   ]
  },
  {
   "cell_type": "code",
   "execution_count": null,
   "metadata": {},
   "outputs": [],
   "source": [
    "\"\"\"\n",
    "    Casos\n",
    "        Alérgico\n",
    "            Coma e continue\n",
    "            Coma e vá embora \n",
    "            Coma e morra\n",
    "        Morrer\n",
    "            Boteco continue\n",
    "            Boteco pare\n",
    "\"\"\""
   ]
  },
  {
   "cell_type": "code",
   "execution_count": 20,
   "metadata": {},
   "outputs": [
    {
     "name": "stdout",
     "output_type": "stream",
     "text": [
      "Chico Tuíta entrou no buteco\n",
      "---- Chico Tuíta consumiu um Costelinha de buteco\n",
      "----* Chico Tuíta bate um papo\n",
      "---- Chico Tuíta consumiu um Ovo colorido\n",
      "Chico Tuíta morreu, a polícia chegou e a Vigilância Sanitária fechou o boteco\n"
     ]
    }
   ],
   "source": [
    "alergia = \"Ovo colorido\"\n",
    "banido = \"Chapa de Chicrete\"\n",
    "morreu = False\n",
    "\n",
    "for cliente in clientes:\n",
    "    print(f\"{cliente} entrou no buteco\")\n",
    "    \n",
    "    # Se o cliente estiver na lista de banidos, não pode consumir\n",
    "    if cliente == banido:\n",
    "        print(f\"{cliente} não pode comer aqui no boteco. Vá embora, infeliz!\")\n",
    "        print(\"\")\n",
    "        continue\n",
    "    \n",
    "    # Embaralha os produtos\n",
    "    shuffle(produtos)\n",
    "    \n",
    "    # Ainda está vivo\n",
    "    morreu = False\n",
    "    \n",
    "    # For do consumo\n",
    "    for produto in produtos:\n",
    "        print(f\"---- {cliente} consumiu um {produto}\")        \n",
    "        if (produto == alergia) & (random() > 0.7):\n",
    "            #print(\"---- *** cof cof ***\")\n",
    "            #continue\n",
    "            morreu = True\n",
    "            break\n",
    "            \n",
    "        if (random()) > 0.5:\n",
    "            print(f\"----* {cliente} bate um papo\")\n",
    "        else:\n",
    "            print(f\"----* {cliente} pede pra tocar uma sofrência\")\n",
    "        \n",
    "    if morreu:\n",
    "        # Continue\n",
    "        #print(f\"{cliente} morreu, mas que se f***\")\n",
    "        #print(\"\")\n",
    "        #continue\n",
    "        #print(f\"{cliente} morreu, mas que se f***\")\n",
    "        \n",
    "        # O Boteco fecha\n",
    "        print(f\"{cliente} morreu, a polícia chegou e a Vigilância Sanitária fechou o boteco\")\n",
    "        break\n",
    "    else:\n",
    "        print(f\"{cliente} foi embora\")\n",
    "    print(\"\")"
   ]
  }
 ],
 "metadata": {
  "kernelspec": {
   "display_name": "Python 3",
   "language": "python",
   "name": "python3"
  },
  "language_info": {
   "codemirror_mode": {
    "name": "ipython",
    "version": 3
   },
   "file_extension": ".py",
   "mimetype": "text/x-python",
   "name": "python",
   "nbconvert_exporter": "python",
   "pygments_lexer": "ipython3",
   "version": "3.6.8"
  }
 },
 "nbformat": 4,
 "nbformat_minor": 2
}
