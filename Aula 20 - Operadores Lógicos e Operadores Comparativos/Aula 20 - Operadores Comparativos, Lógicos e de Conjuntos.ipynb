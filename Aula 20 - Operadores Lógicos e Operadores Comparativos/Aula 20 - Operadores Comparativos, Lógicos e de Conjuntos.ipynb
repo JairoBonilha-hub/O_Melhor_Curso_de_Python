{
 "cells": [
  {
   "cell_type": "code",
   "execution_count": null,
   "metadata": {},
   "outputs": [],
   "source": [
    "# Valores True e False"
   ]
  },
  {
   "cell_type": "code",
   "execution_count": null,
   "metadata": {},
   "outputs": [],
   "source": [
    "# Operadores comparativos\n",
    "# >         Maior\n",
    "# >=        Maior ou Igual\n",
    "# <         Menor\n",
    "# <=        Menor ou Igual\n",
    "# ==        Igual\n",
    "# !=        Diferente"
   ]
  },
  {
   "cell_type": "code",
   "execution_count": null,
   "metadata": {},
   "outputs": [],
   "source": [
    "# Operadores Lógicos\n",
    "# &         E\n",
    "# |         OU\n",
    "# not       NÃO"
   ]
  },
  {
   "cell_type": "code",
   "execution_count": null,
   "metadata": {},
   "outputs": [],
   "source": [
    "# Operadores de Conjuntos\n",
    "# in        Contém\n",
    "# not in    Não contém"
   ]
  }
 ],
 "metadata": {
  "kernelspec": {
   "display_name": "Python 3",
   "language": "python",
   "name": "python3"
  },
  "language_info": {
   "codemirror_mode": {
    "name": "ipython",
    "version": 3
   },
   "file_extension": ".py",
   "mimetype": "text/x-python",
   "name": "python",
   "nbconvert_exporter": "python",
   "pygments_lexer": "ipython3",
   "version": "3.6.8"
  }
 },
 "nbformat": 4,
 "nbformat_minor": 2
}
